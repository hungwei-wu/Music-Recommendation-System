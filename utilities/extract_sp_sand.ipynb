{
 "cells": [
  {
   "cell_type": "code",
   "execution_count": 1,
   "metadata": {},
   "outputs": [],
   "source": [
    "import pandas as pd\n",
    "file_name = \"../data/lastfm-dataset-1K/userid-timestamp-artid-artname-traid-traname.tsv\"\n",
    "# file_name = \"./userid-timestamp-artid-artname-traid-traname.tsv\"\n",
    "df = pd.read_csv(file_name, sep='\\t',header=None, quoting=3,\n",
    "                 names=['userid', 'timestamp', 'artid', 'artname', 'traid', 'traname'],\n",
    "                 error_bad_lines=False,\n",
    "                 dtype=object)"
   ]
  },
  {
   "cell_type": "code",
   "execution_count": 2,
   "metadata": {},
   "outputs": [
    {
     "data": {
      "text/plain": [
       "((19150868, 6),\n",
       " Index(['userid', 'timestamp', 'artid', 'artname', 'traid', 'traname'], dtype='object'))"
      ]
     },
     "execution_count": 2,
     "metadata": {},
     "output_type": "execute_result"
    }
   ],
   "source": [
    "df.shape, df.columns"
   ]
  },
  {
   "cell_type": "code",
   "execution_count": 3,
   "metadata": {},
   "outputs": [
    {
     "data": {
      "text/html": [
       "<div>\n",
       "<style scoped>\n",
       "    .dataframe tbody tr th:only-of-type {\n",
       "        vertical-align: middle;\n",
       "    }\n",
       "\n",
       "    .dataframe tbody tr th {\n",
       "        vertical-align: top;\n",
       "    }\n",
       "\n",
       "    .dataframe thead th {\n",
       "        text-align: right;\n",
       "    }\n",
       "</style>\n",
       "<table border=\"1\" class=\"dataframe\">\n",
       "  <thead>\n",
       "    <tr style=\"text-align: right;\">\n",
       "      <th></th>\n",
       "      <th>userid</th>\n",
       "      <th>timestamp</th>\n",
       "      <th>artid</th>\n",
       "      <th>artname</th>\n",
       "      <th>traid</th>\n",
       "      <th>traname</th>\n",
       "    </tr>\n",
       "  </thead>\n",
       "  <tbody>\n",
       "    <tr>\n",
       "      <th>0</th>\n",
       "      <td>user_000001</td>\n",
       "      <td>2009-05-04T23:08:57Z</td>\n",
       "      <td>f1b1cf71-bd35-4e99-8624-24a6e15f133a</td>\n",
       "      <td>Deep Dish</td>\n",
       "      <td>NaN</td>\n",
       "      <td>Fuck Me Im Famous (Pacha Ibiza)-09-28-2007</td>\n",
       "    </tr>\n",
       "    <tr>\n",
       "      <th>1</th>\n",
       "      <td>user_000001</td>\n",
       "      <td>2009-05-04T13:54:10Z</td>\n",
       "      <td>a7f7df4a-77d8-4f12-8acd-5c60c93f4de8</td>\n",
       "      <td>坂本龍一</td>\n",
       "      <td>NaN</td>\n",
       "      <td>Composition 0919 (Live_2009_4_15)</td>\n",
       "    </tr>\n",
       "    <tr>\n",
       "      <th>2</th>\n",
       "      <td>user_000001</td>\n",
       "      <td>2009-05-04T13:52:04Z</td>\n",
       "      <td>a7f7df4a-77d8-4f12-8acd-5c60c93f4de8</td>\n",
       "      <td>坂本龍一</td>\n",
       "      <td>NaN</td>\n",
       "      <td>Mc2 (Live_2009_4_15)</td>\n",
       "    </tr>\n",
       "    <tr>\n",
       "      <th>3</th>\n",
       "      <td>user_000001</td>\n",
       "      <td>2009-05-04T13:42:52Z</td>\n",
       "      <td>a7f7df4a-77d8-4f12-8acd-5c60c93f4de8</td>\n",
       "      <td>坂本龍一</td>\n",
       "      <td>NaN</td>\n",
       "      <td>Hibari (Live_2009_4_15)</td>\n",
       "    </tr>\n",
       "    <tr>\n",
       "      <th>4</th>\n",
       "      <td>user_000001</td>\n",
       "      <td>2009-05-04T13:42:11Z</td>\n",
       "      <td>a7f7df4a-77d8-4f12-8acd-5c60c93f4de8</td>\n",
       "      <td>坂本龍一</td>\n",
       "      <td>NaN</td>\n",
       "      <td>Mc1 (Live_2009_4_15)</td>\n",
       "    </tr>\n",
       "    <tr>\n",
       "      <th>5</th>\n",
       "      <td>user_000001</td>\n",
       "      <td>2009-05-04T13:38:31Z</td>\n",
       "      <td>a7f7df4a-77d8-4f12-8acd-5c60c93f4de8</td>\n",
       "      <td>坂本龍一</td>\n",
       "      <td>NaN</td>\n",
       "      <td>To Stanford (Live_2009_4_15)</td>\n",
       "    </tr>\n",
       "    <tr>\n",
       "      <th>6</th>\n",
       "      <td>user_000001</td>\n",
       "      <td>2009-05-04T13:33:28Z</td>\n",
       "      <td>a7f7df4a-77d8-4f12-8acd-5c60c93f4de8</td>\n",
       "      <td>坂本龍一</td>\n",
       "      <td>NaN</td>\n",
       "      <td>Improvisation (Live_2009_4_15)</td>\n",
       "    </tr>\n",
       "    <tr>\n",
       "      <th>7</th>\n",
       "      <td>user_000001</td>\n",
       "      <td>2009-05-04T13:23:45Z</td>\n",
       "      <td>a7f7df4a-77d8-4f12-8acd-5c60c93f4de8</td>\n",
       "      <td>坂本龍一</td>\n",
       "      <td>NaN</td>\n",
       "      <td>Glacier (Live_2009_4_15)</td>\n",
       "    </tr>\n",
       "    <tr>\n",
       "      <th>8</th>\n",
       "      <td>user_000001</td>\n",
       "      <td>2009-05-04T13:19:22Z</td>\n",
       "      <td>a7f7df4a-77d8-4f12-8acd-5c60c93f4de8</td>\n",
       "      <td>坂本龍一</td>\n",
       "      <td>NaN</td>\n",
       "      <td>Parolibre (Live_2009_4_15)</td>\n",
       "    </tr>\n",
       "    <tr>\n",
       "      <th>9</th>\n",
       "      <td>user_000001</td>\n",
       "      <td>2009-05-04T13:13:38Z</td>\n",
       "      <td>a7f7df4a-77d8-4f12-8acd-5c60c93f4de8</td>\n",
       "      <td>坂本龍一</td>\n",
       "      <td>NaN</td>\n",
       "      <td>Bibo No Aozora (Live_2009_4_15)</td>\n",
       "    </tr>\n",
       "  </tbody>\n",
       "</table>\n",
       "</div>"
      ],
      "text/plain": [
       "        userid             timestamp                                 artid  \\\n",
       "0  user_000001  2009-05-04T23:08:57Z  f1b1cf71-bd35-4e99-8624-24a6e15f133a   \n",
       "1  user_000001  2009-05-04T13:54:10Z  a7f7df4a-77d8-4f12-8acd-5c60c93f4de8   \n",
       "2  user_000001  2009-05-04T13:52:04Z  a7f7df4a-77d8-4f12-8acd-5c60c93f4de8   \n",
       "3  user_000001  2009-05-04T13:42:52Z  a7f7df4a-77d8-4f12-8acd-5c60c93f4de8   \n",
       "4  user_000001  2009-05-04T13:42:11Z  a7f7df4a-77d8-4f12-8acd-5c60c93f4de8   \n",
       "5  user_000001  2009-05-04T13:38:31Z  a7f7df4a-77d8-4f12-8acd-5c60c93f4de8   \n",
       "6  user_000001  2009-05-04T13:33:28Z  a7f7df4a-77d8-4f12-8acd-5c60c93f4de8   \n",
       "7  user_000001  2009-05-04T13:23:45Z  a7f7df4a-77d8-4f12-8acd-5c60c93f4de8   \n",
       "8  user_000001  2009-05-04T13:19:22Z  a7f7df4a-77d8-4f12-8acd-5c60c93f4de8   \n",
       "9  user_000001  2009-05-04T13:13:38Z  a7f7df4a-77d8-4f12-8acd-5c60c93f4de8   \n",
       "\n",
       "     artname traid                                     traname  \n",
       "0  Deep Dish   NaN  Fuck Me Im Famous (Pacha Ibiza)-09-28-2007  \n",
       "1       坂本龍一   NaN           Composition 0919 (Live_2009_4_15)  \n",
       "2       坂本龍一   NaN                        Mc2 (Live_2009_4_15)  \n",
       "3       坂本龍一   NaN                     Hibari (Live_2009_4_15)  \n",
       "4       坂本龍一   NaN                        Mc1 (Live_2009_4_15)  \n",
       "5       坂本龍一   NaN                To Stanford (Live_2009_4_15)  \n",
       "6       坂本龍一   NaN              Improvisation (Live_2009_4_15)  \n",
       "7       坂本龍一   NaN                    Glacier (Live_2009_4_15)  \n",
       "8       坂本龍一   NaN                  Parolibre (Live_2009_4_15)  \n",
       "9       坂本龍一   NaN             Bibo No Aozora (Live_2009_4_15)  "
      ]
     },
     "execution_count": 3,
     "metadata": {},
     "output_type": "execute_result"
    }
   ],
   "source": [
    "df.head(10)"
   ]
  },
  {
   "cell_type": "code",
   "execution_count": 4,
   "metadata": {},
   "outputs": [
    {
     "data": {
      "text/plain": [
       "'userid:992  artid:107398 traid:107398 traname:1084873'"
      ]
     },
     "execution_count": 4,
     "metadata": {},
     "output_type": "execute_result"
    }
   ],
   "source": [
    "\"userid:{}  artid:{} traid:{} traname:{}\".format(len(df.userid.unique()), len( df.artid.unique() ), len( df.artid.unique() ),len( df.traname.unique() ))"
   ]
  },
  {
   "cell_type": "code",
   "execution_count": 6,
   "metadata": {},
   "outputs": [],
   "source": [
    "df = df.head(100)\n",
    "cnt_df = pd.crosstab(df.userid,df.traname)"
   ]
  },
  {
   "cell_type": "code",
   "execution_count": 8,
   "metadata": {},
   "outputs": [
    {
     "data": {
      "text/plain": [
       "Index(['(The Only) Dark In The Light (Steve Sampling Mix)', 'Amber Sky',\n",
       "       'Animals (Beat Pharmacy ' Into The Wild Dub Remix)',\n",
       "       'Animals (Luciano Remix)', 'Animals (Tolga Fidan Remix)',\n",
       "       'Are We? (Feat. Michelle Amador)', 'Backspin', 'Beach Towel',\n",
       "       'Behind The Mask (Live_2009_4_15)', 'Bibo No Aozora (Live_2009_4_15)',\n",
       "       'Boy, Boy, Boy (Switch Remix)', 'Carry On', 'Clouds', 'Cold Fusion',\n",
       "       'Composition 0919 (Live_2009_4_15)',\n",
       "       'Crocodile (Innervisions Orchestra Mix)', 'Deadly Species',\n",
       "       'Dois Pólos', 'Eight', 'Elysian Fields', 'Five', 'Footwork', 'Four',\n",
       "       'Freeze', 'Fuck Me Im Famous (Pacha Ibiza)-09-28-2007', 'Give In',\n",
       "       'Glacier (Live_2009_4_15)', 'Good Morning Love Coffee Is Ready',\n",
       "       'Grooves Of The Heart', 'Growls Garden', 'Happyend (Live_2009_4_15)',\n",
       "       'Headspin', 'Hibari (Live_2009_4_15)', 'How Lonely Does It Get',\n",
       "       'Improvisation (Live_2009_4_15)', 'Inside My Love (Extended Mix)',\n",
       "       'Jazz Flares',\n",
       "       'Leave It All Behind (Feat. The Rebirth & Aima The Dreamer)', 'Lifeb',\n",
       "       'Look Inside', 'Map Point Baby (The Hue Remix)', 'Mc1 (Live_2009_4_15)',\n",
       "       'Mc2 (Live_2009_4_15)', 'Morning Child', 'Move Me [Feat. Soliloquy]',\n",
       "       'Ninna Nanna In Blu (Raw Deal Remix)', 'Parolibre (Live_2009_4_15)',\n",
       "       'Planetary Deadlock', 'Play With The Changes', 'Rasta Baby',\n",
       "       'Ready 2 Wear', 'Seven', 'Simmer Down Jammie', 'Sink Or Swim', 'Six',\n",
       "       'Someday (Feat. Lisa Shaw)', 'Something In The Way', 'Sovatex 2055',\n",
       "       'Stoke Up The Fire', 'Take My Time', 'The Awakening', 'The Crush',\n",
       "       'The Last Emperor (Theme)', 'Three', 'Tibetan Dance (Version)',\n",
       "       'To Stanford (Live_2009_4_15)', 'Two',\n",
       "       'You Already Know (Feat. Kathryn Williams)', 'You Make Me Dizzy'],\n",
       "      dtype='object', name='traname')"
      ]
     },
     "execution_count": 8,
     "metadata": {},
     "output_type": "execute_result"
    }
   ],
   "source": [
    "sparse_matric_info = {'user':cnt_df.index,'tra':cnt_df.columns}\n",
    "cnt_df.index,cnt_df.columns"
   ]
  },
  {
   "cell_type": "code",
   "execution_count": 18,
   "metadata": {},
   "outputs": [],
   "source": [
    "import numpy as np\n",
    "np.save(\"sp_info_test.npy\",cnt_df.columns)"
   ]
  },
  {
   "cell_type": "code",
   "execution_count": 19,
   "metadata": {},
   "outputs": [],
   "source": [
    "A = np.load(\"sp_info_test.npy\")"
   ]
  },
  {
   "cell_type": "code",
   "execution_count": 22,
   "metadata": {},
   "outputs": [
    {
     "data": {
      "text/plain": [
       "'(The Only) Dark In The Light (Steve Sampling Mix)'"
      ]
     },
     "execution_count": 22,
     "metadata": {},
     "output_type": "execute_result"
    }
   ],
   "source": [
    "A[0]"
   ]
  },
  {
   "cell_type": "code",
   "execution_count": 14,
   "metadata": {},
   "outputs": [],
   "source": [
    "from scipy.sparse import csr_matrix, save_npz, load_npz\n",
    "save_npz('sparse_matrix.npz',csr_matrix(cnt_df.values))"
   ]
  },
  {
   "cell_type": "code",
   "execution_count": 16,
   "metadata": {},
   "outputs": [],
   "source": [
    "sp = load_npz('sparse_matrix.npz')"
   ]
  },
  {
   "cell_type": "code",
   "execution_count": 17,
   "metadata": {},
   "outputs": [
    {
     "data": {
      "text/plain": [
       "(992, 1083480)"
      ]
     },
     "execution_count": 17,
     "metadata": {},
     "output_type": "execute_result"
    }
   ],
   "source": [
    "sp.shape"
   ]
  },
  {
   "cell_type": "code",
   "execution_count": null,
   "metadata": {},
   "outputs": [],
   "source": []
  }
 ],
 "metadata": {
  "kernelspec": {
   "display_name": "Python 3",
   "language": "python",
   "name": "python3"
  },
  "language_info": {
   "codemirror_mode": {
    "name": "ipython",
    "version": 3
   },
   "file_extension": ".py",
   "mimetype": "text/x-python",
   "name": "python",
   "nbconvert_exporter": "python",
   "pygments_lexer": "ipython3",
   "version": "3.5.2"
  }
 },
 "nbformat": 4,
 "nbformat_minor": 2
}
